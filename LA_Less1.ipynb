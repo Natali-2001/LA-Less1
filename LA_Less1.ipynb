{
 "cells": [
  {
   "cell_type": "code",
   "execution_count": 2,
   "metadata": {},
   "outputs": [],
   "source": [
    "import numpy as np \n",
    "import matplotlib.pyplot as plt\n",
    "import scipy \n",
    "import scipy.linalg"
   ]
  },
  {
   "cell_type": "markdown",
   "metadata": {},
   "source": [
    "### 1.1 Исследовать на линейную зависимость:\n",
    "\n",
    "$$f_{1}(x)=e^{x}, f_{2}(x)=1, f_{3}(x)=x+1, f_{4}(x)=x-e^{x}.$$\n",
    "\n",
    "Решение: Вектор $f_{4}$ можно представить в ввиде комбинации векторов $f_{1}$, $f_{2}$ и $f_{3}$:\n",
    "\n",
    "$f_{4}(x)=f_{3}(x)-f_{2}(x)-f_{1}(x)=(x+1)-1-e^{x}$.\n",
    "\n",
    "Т.о. $f_{1}(x)=e^{x}, f_{2}(x)=1, f_{3}(x)=x+1, f_{4}(x)=x-e^{x}$ линейно зависимы."
   ]
  },
  {
   "cell_type": "markdown",
   "metadata": {},
   "source": [
    "### 1.2. Исследовать на линейную зависимость:\n",
    "\n",
    "$$f_{1}(x)=2, f_{2}(x)=x, f_{3}(x)=x^{2}, f_{4}(x)=(x+1)^{2}$$\n",
    "\n",
    "Решение: Вектор  $f_{4}(x)$  можно представить в ввиде комбинации векторов  𝑓1 ,  𝑓2  и  𝑓3 :\n",
    "\n",
    "$𝑓_{4}(x)=f_{3}(x)+2f_{2}(x)+0,5f_{1}(x)=x^{2}+2x+0.5*2$\n",
    "\n",
    "Т.о. $f_{1}(x)=2, f_{2}(x)=x, f_{3}(x)=x^{2}, f_{4}(x)=(x+1)^{2}$ линейно зависимы."
   ]
  },
  {
   "cell_type": "markdown",
   "metadata": {},
   "source": [
    "###  1.3. Найти координаты вектора $x = (2, 3, 5)\\in \\mathbb{R}^{3}$ в базисе $b_{1}=(0, 0, 10)$, $b_{2}=(2, 0, 0)$, $b_{3}=(0, 1, 0)$."
   ]
  },
  {
   "cell_type": "markdown",
   "metadata": {},
   "source": [
    "Решение: Сначала необходимо проверить образуют ли векторы $b_{1}$, $b_{2}$ и $b_{3}$ базис. Векторы образуют базис, если определитель, составленный из координат этих векторов, отличен от нуля, в противном случае вектора не являются базисными и вектор X нельзя разложить по данному базису.\n",
    "Вычислим определитель матрицы:"
   ]
  },
  {
   "cell_type": "code",
   "execution_count": 13,
   "metadata": {},
   "outputs": [
    {
     "name": "stdout",
     "output_type": "stream",
     "text": [
      "Определитель матрицы B = 20\n"
     ]
    }
   ],
   "source": [
    "B = np.array([[0, 0, 10], [2, 0, 0], [0, 1, 0]])\n",
    "p = int(np.linalg.det(B))\n",
    "print(f'Определитель матрицы B = {p}')"
   ]
  },
  {
   "cell_type": "markdown",
   "metadata": {},
   "source": [
    "Так как определитель отличен от нуля, то векторы образуют базис, следовательно, вектор X можно разложить по данному базису. Т.е. существуют такие числа $α_{1}$, $α_{2}$, $α_{3}$, что имеет место равенство:\n",
    "X = $α_{1}\\cdot b_{1}$ + $α_{2}\\cdot b_{2}$ + $α_{3}\\cdot b_{3}$\n",
    "\n",
    "Запишем данное равенство в координатной форме:\n",
    "(2;3;5) = $α_{1}\\cdot$(0;0;10) + $α_{2}\\cdot$(2;0;0) + $α_{3}\\cdot$(0;1;0)\n",
    "\n",
    "\n",
    "Используя свойства векторов, получим следующее равенство:\n",
    "\n",
    "\n",
    "(2; 3; 5) = ($0\\cdot α_{1}$; $0\\cdot α_{1}$; $10\\cdot α_{1}$) + ($2\\cdot α_{2}$; $0\\cdot α_{2}$; $0\\cdot α_{2}$) + ($0\\cdot α_{3}$; $1\\cdot α_{3}$; $0\\cdot α_{3}$)\n",
    "\n",
    "(2; 3; 5) = ($0\\cdot α_{1}$ + $2\\cdot α_{2}$ + $0\\cdot α_{3}$; $0\\cdot α_{1}$ + $0\\cdot α_{2}$ + $1\\cdot α_{3}$; $10\\cdot α_{1}$ + $0\\cdot α_{2}$ + $0\\cdot α_{3}$)\n",
    "\n",
    "\n",
    "По свойству равенства векторов имеем:\n",
    "\n",
    "\n",
    "$0\\cdot α_{1}$ + $2\\cdot α_{2}$ + $0\\cdot α_{3}$ = 2\n",
    "\n",
    "\n",
    "$0\\cdot α_{1}$ + $0\\cdot α_{2}$ + $1\\cdot α_{3}$ = 3\n",
    "\n",
    "\n",
    "$10\\cdot α_{1}$ + $0\\cdot α_{2}$ + $0\\cdot α_{3}$ = 5\n",
    "\n",
    "из системы получаем, что $α_{1} = 0.5$, $α_{2} = 1$, $α_{3} = 3$, т.е. X = $0.5\\cdot b_{1}$ + $b_{2}$ + $3\\cdot b_{3}$"
   ]
  },
  {
   "cell_type": "markdown",
   "metadata": {},
   "source": [
    "###  1.4. Найти координаты вектора $3x^{2}-2x+2\\in\\mathbb{R}^{3}[x]$:\n",
    "а) в базисе $1$, $x$, $x^{2}$"
   ]
  },
  {
   "cell_type": "markdown",
   "metadata": {},
   "source": [
    "Решение: Сначала необходимо проверить образуют ли многочлены 1, x и $x^2$  базис. Векторы образуют базис, если определитель, составленный из координат этих векторов, отличен от нуля, в противном случае вектора не являются базисными и вектор X нельзя разложить по данному базису. Вычислим определитель матрицы:"
   ]
  },
  {
   "cell_type": "code",
   "execution_count": 14,
   "metadata": {},
   "outputs": [
    {
     "name": "stdout",
     "output_type": "stream",
     "text": [
      "Определитель матрицы A = -1\n"
     ]
    }
   ],
   "source": [
    "A = np.array([[0, 0, 1], [0, 1, 0], [1, 0, 0]])\n",
    "d = int(np.linalg.det(A))\n",
    "print(f'Определитель матрицы A = {d}')"
   ]
  },
  {
   "cell_type": "markdown",
   "metadata": {},
   "source": [
    "Так как определитель отличен от нуля, то векторы образуют базис, следовательно, многочлен X можно разложить по данному базису. Т.е. существуют такие числа $α_{1}$, $α_{2}$, $α_{3}$, что имеет место равенство:\n",
    "X = $α_{1}\\cdot b_{1}$ + $α_{2}\\cdot b_{2}$ + $α_{3}\\cdot b_{3}$\n",
    "\n",
    "Запишем данное равенство в координатной форме:\n",
    "(3; -2; 2) = $α_{1}\\cdot $(0;0;1) + $α_{2}\\cdot $(0;1;0) + $α_{3}\\cdot $(1;0;0)\n",
    "\n",
    "\n",
    "Используя свойства векторов, получим следующее равенство:\n",
    "\n",
    "\n",
    "(3; -2; 2) = ($0\\cdot α_{1}$; $0\\cdot α_{1}$; $1\\cdot α_{1}$) + ($0\\cdot α_{2}$; $1\\cdot α_{2}$; $0\\cdot α_{2}$) + ($1\\cdot α_{3}$; $0\\cdot α_{3}$; $0\\cdot α_{3}$)\n",
    "\n",
    "(3; -2; 2) = ($0\\cdot α_{1}$ + $0\\cdot α_{2}$ + $1\\cdot α_{3}$; $0\\cdot α_{1}$ + $1\\cdot α_{2}$ + $0\\cdot α_{3}$; $1\\cdot α_{1}$ + $0\\cdot α_{2}$ + $0\\cdot α_{3}$)\n",
    "\n",
    "\n",
    "По свойству равенства векторов имеем:\n",
    "\n",
    "\n",
    "$0\\cdot α_{1}$ + $0\\cdot α_{2}$ + $1\\cdot α_{3}$ = 3\n",
    "\n",
    "\n",
    "$0\\cdot α_{1}$ + $1\\cdot α_{2}$ + $0\\cdot α_{3}$ = -2\n",
    "\n",
    "\n",
    "$1\\cdot α_{1}$ + $0\\cdot α_{2}$ + $0\\cdot α_{3}$ = 2\n",
    "\n",
    "из системы получаем, что $α_{1} = 2$, $α_{2} = -2$, $α_{3} = 3$, т.е. X = $2\\cdot b_{1}$ - $2\\cdot b_{2}$ + $3\\cdot b_{3}$"
   ]
  },
  {
   "cell_type": "markdown",
   "metadata": {},
   "source": [
    "###  1.4. Найти координаты вектора $3x^{2}-2x+2\\in\\mathbb{R}^{3}[x]$:\n",
    "а) в базисе $x^{2}$, $x-1$, $1$"
   ]
  },
  {
   "cell_type": "markdown",
   "metadata": {},
   "source": [
    "Решение: Сначала необходимо проверить образуют ли многочлены $x^2$, x-1 и 1  базис. Векторы образуют базис, если определитель, составленный из координат этих векторов, отличен от нуля, в противном случае вектора не являются базисными и вектор X нельзя разложить по данному базису. Вычислим определитель матрицы:"
   ]
  },
  {
   "cell_type": "code",
   "execution_count": 15,
   "metadata": {},
   "outputs": [
    {
     "name": "stdout",
     "output_type": "stream",
     "text": [
      "Определитель матрицы A = 1\n"
     ]
    }
   ],
   "source": [
    "C = np.array([[1, 0, 0], [0, 1, -1], [0, 0, 1]])\n",
    "c = int(np.linalg.det(C))\n",
    "print(f'Определитель матрицы A = {c}')"
   ]
  },
  {
   "cell_type": "markdown",
   "metadata": {},
   "source": [
    "Так как определитель отличен от нуля, то векторы образуют базис, следовательно, многочлен X можно разложить по данному базису. Т.е. существуют такие числа $α_{1}$, $α_{2}$, $α_{3}$, что имеет место равенство:\n",
    "X = $α_{1}\\cdot b_{1}$ + $α_{2}\\cdot b_{2}$ + $α_{3}\\cdot b_{3}$\n",
    "\n",
    "Запишем данное равенство в координатной форме:\n",
    "(3; -2; 2) = $α_{1}\\cdot $(1;0;0) + $α_{2}\\cdot $(0;1;-1) + $α_{3}\\cdot $(0;0;1)\n",
    "\n",
    "\n",
    "Используя свойства векторов, получим следующее равенство:\n",
    "\n",
    "\n",
    "(3; -2; 2) = ($1\\cdot α_{1}$; $0\\cdot α_{1}$; $0\\cdot α_{1}$) + ($0\\cdot α_{2}$; $1\\cdot α_{2}$; $-1\\cdot α_{2}$) + ($0\\cdot α_{3}$; $0\\cdot α_{3}$; $1\\cdot α_{3}$)\n",
    "\n",
    "(3; -2; 2) = ($1\\cdot α_{1}$ + $0\\cdot α_{2}$ + $0\\cdot α_{3}$; $0\\cdot α_{1}$ + $1\\cdot α_{2}$ + $0\\cdot α_{3}$; $0\\cdot α_{1}$ - $1\\cdot α_{2}$ + $1\\cdot α_{3}$)\n",
    "\n",
    "\n",
    "По свойству равенства векторов имеем:\n",
    "\n",
    "\n",
    "$1\\cdot α_{1}$ + $0\\cdot α_{2}$ + $0\\cdot α_{3}$ = 3\n",
    "\n",
    "\n",
    "$0\\cdot α_{1}$ + $1\\cdot α_{2}$ + $0\\cdot α_{3}$ = -2\n",
    "\n",
    "\n",
    "$0\\cdot α_{1}$ - $1\\cdot α_{2}$ + $1\\cdot α_{3}$ = 2\n",
    "\n",
    "из системы получаем, что $α_{1} = 3$, $α_{2}= -2 $, $α_{3} = 0$, т.е. X = $3\\cdot b_{1}$ - $2\\cdot b_{2}$ + $0\\cdot b_{3}$"
   ]
  },
  {
   "cell_type": "markdown",
   "metadata": {},
   "source": [
    "###  1.5. Установить, является ли линейным подпространством:\n",
    "а) совокупность всех векторов трехмерного пространства, у которых по крайней мере одна из первых двух координат равна нулю"
   ]
  },
  {
   "cell_type": "markdown",
   "metadata": {},
   "source": [
    "Решение:\n",
    "Проведем проверку условий для подпространства\n",
    "\n",
    "$$(0, a, b)+(c, 0, d) = (c, a, b+d),$$\n",
    "$$\\alpha\\cdot (0, a, b) = (0, \\alpha\\cdot a, \\alpha\\cdot b)$$\n",
    "$$\\alpha\\cdot (c, 0, d) = (\\alpha\\cdot c, 0, \\alpha\\cdot d).$$\n",
    "\n",
    "Из полученных векторов первый не принадлежат указанному в задании множеству всех векторов вида $(0, a, b)$ или $(c, 0, d)$ или $(0, 0, e)$, то есть данное множество не является подпространством линейного пространства $\\mathbb{R}^{3}$.\n",
    "\n",
    "При этом можно заметить, что если бы в формулировке задачи было бы записано, что ОБЕ первые координаты равны 0, то эта совокупность была бы линейным подпространством\n"
   ]
  },
  {
   "cell_type": "markdown",
   "metadata": {},
   "source": [
    "###  1.5. Установить, является ли линейным подпространством:\n",
    "б) все векторы, являющиеся линейными комбинациями данных векторов $\\{u_{1}, u_{2}, \\ldots, u_{n}\\}$."
   ]
  },
  {
   "cell_type": "markdown",
   "metadata": {},
   "source": [
    "Решение:\n",
    "Проведем проверку условий для подпространств\n",
    "\n",
    "$$(a_1u_1 + a_2u_2 +...+a_nu_n)+(b_1u_1 + b_2u_2 +...+b_nu_n) = ((a_1+b_1)u_1, (a_2+b_2)u_2, ...,(a_n+b_n)u_n),$$\n",
    "$$\\alpha\\cdot (a_1u_1 + a_2u_2 +...+a_nu_n) = (\\alpha a_1u_1, \\alpha a_2u_2, ...,  \\alpha a_nu_n).$$\n",
    "Вектора $((a_1+b_1)\\cdot u_1, (a_2+b_2)\\cdot u_2, ...,(a_n+b_n)\\cdot u_n)$, и $(\\alpha\\cdot a_1u_1, \\alpha\\cdot a_2u_2, ...,  \\alpha\\cdot a_nu_n)$ являются элементами подмножества линейных комбинаций векторов $\\{u_{1}, u_{2}, \\ldots, u_{n}\\}$. \n",
    "\n",
    "Следовательно, множество всех векторов, являющихся линейными комбинациями векторов $\\{u_{1}, u_{2}, \\ldots, u_{n}\\}$, является его линейным подпространством."
   ]
  },
  {
   "cell_type": "code",
   "execution_count": 19,
   "metadata": {},
   "outputs": [],
   "source": [
    "from numpy.linalg import norm"
   ]
  },
  {
   "cell_type": "markdown",
   "metadata": {},
   "source": [
    "###  2.1. Найти скалярное произведение векторов $x, y \\in \\mathbb{R}$:\n",
    "##### а) $x=(0,-3, 6),   y=(-4, 7, 9)$\n",
    "\n",
    "(x, y) = 0 * (-4) + (-3) * 7 + 6 * 9 = 33"
   ]
  },
  {
   "cell_type": "code",
   "execution_count": 51,
   "metadata": {},
   "outputs": [
    {
     "name": "stdout",
     "output_type": "stream",
     "text": [
      "Скалярное произведение a и b: 33\n"
     ]
    }
   ],
   "source": [
    "# проверка\n",
    "a = np.array([0,-3, 6])\n",
    "b = np.array([-4, 7, 9])\n",
    "print(f'Скалярное произведение a и b: {a @ b}')"
   ]
  },
  {
   "cell_type": "markdown",
   "metadata": {},
   "source": [
    "###  2.1. Найти скалярное произведение векторов $x, y \\in \\mathbb{R}$:\n",
    "##### б) $x=(7,-4, 0, 1),   y=(-3, 1, 11, 2)$\n",
    "\n",
    "(x, y) = 7 * (-3) + (-4) * 1 + 0 * 11 + 1 * 2 = -23"
   ]
  },
  {
   "cell_type": "code",
   "execution_count": 23,
   "metadata": {},
   "outputs": [
    {
     "name": "stdout",
     "output_type": "stream",
     "text": [
      "Скалярное произведение a и b: -23\n"
     ]
    }
   ],
   "source": [
    "# проверка\n",
    "a = np.array([7,-4, 0, 1])\n",
    "b = np.array([-3, 1, 11, 2])\n",
    "print(f'Скалярное произведение a и b: {np.dot(a,b)}')"
   ]
  },
  {
   "cell_type": "markdown",
   "metadata": {},
   "source": [
    "### 2.2  Найти нормы векторов $(4, 2, 4)$ и $(12, 3, 4)$ и угол между ними."
   ]
  },
  {
   "cell_type": "code",
   "execution_count": 24,
   "metadata": {},
   "outputs": [],
   "source": [
    "# Зададим вектора:\n",
    "a = np.array([4, 2, 4])\n",
    "b = np.array([12, 3, 4])"
   ]
  },
  {
   "cell_type": "markdown",
   "metadata": {},
   "source": [
    "Определим манхэттенскую норму вектора $a$:\n",
    "\n",
    "$$\\left\\|x\\right\\|_{1} = |4|+|2|+|4|=10$$"
   ]
  },
  {
   "cell_type": "code",
   "execution_count": 25,
   "metadata": {},
   "outputs": [
    {
     "name": "stdout",
     "output_type": "stream",
     "text": [
      "l1 Манхетовская норма вектора a: 10.0\n"
     ]
    }
   ],
   "source": [
    "print(f'l1 Манхетовская норма вектора a: {norm(a, ord=1)}')"
   ]
  },
  {
   "cell_type": "markdown",
   "metadata": {},
   "source": [
    "Определим евклидову норму вектора $a$:\n",
    "\n",
    "$$\\left\\|x\\right\\|_{2} = \\sqrt{4^{2}+2^{2}+4^{2}}=6$$"
   ]
  },
  {
   "cell_type": "code",
   "execution_count": 31,
   "metadata": {},
   "outputs": [
    {
     "name": "stdout",
     "output_type": "stream",
     "text": [
      "l2 Евклидова норма вектора а: 6.0\n"
     ]
    }
   ],
   "source": [
    "print(f'l2 Евклидова норма вектора а: {norm(a, ord=2)}')"
   ]
  },
  {
   "cell_type": "markdown",
   "metadata": {},
   "source": [
    "Определим манхэттенскую норму вектора $b$:\n",
    "\n",
    "$$\\left\\|x\\right\\|_{1} = |12|+|3|+|4|=19$$"
   ]
  },
  {
   "cell_type": "code",
   "execution_count": 32,
   "metadata": {},
   "outputs": [
    {
     "name": "stdout",
     "output_type": "stream",
     "text": [
      "l1 Манхетовская норма вектора b: 19.0\n"
     ]
    }
   ],
   "source": [
    "print(f'l1 Манхетовская норма вектора b: {norm(b, ord=1)}')"
   ]
  },
  {
   "cell_type": "markdown",
   "metadata": {},
   "source": [
    "Определим евклидову норму вектора $b$:\n",
    "\n",
    "$$\\left\\|x\\right\\|_{2} = \\sqrt{12^{2}+3^{2}+4^{2}}=13$$"
   ]
  },
  {
   "cell_type": "code",
   "execution_count": 33,
   "metadata": {},
   "outputs": [
    {
     "name": "stdout",
     "output_type": "stream",
     "text": [
      "l2 Евклидова норма вектора b: 13.0\n"
     ]
    }
   ],
   "source": [
    "print(f'l2 Евклидова норма вектора b: {norm(b, ord=2)}')"
   ]
  },
  {
   "cell_type": "code",
   "execution_count": 34,
   "metadata": {},
   "outputs": [
    {
     "name": "stdout",
     "output_type": "stream",
     "text": [
      "Косинус угла между a и b: 0.90\n",
      "Угол между a и b в радианах: 0.46\n",
      "Угол между a и b в градусах: 26.18\n"
     ]
    }
   ],
   "source": [
    "# найдем угол между векторами:\n",
    "cos_phi = np.dot(a, b) / norm(a) / norm(b)\n",
    "print(f'Косинус угла между a и b: {cos_phi:.2f}')\n",
    "print(f'Угол между a и b в радианах: {np.arccos(cos_phi):.2f}')\n",
    "print(f'Угол между a и b в градусах: {np.arccos(cos_phi) * 180 / np.pi:.2f}')"
   ]
  },
  {
   "cell_type": "markdown",
   "metadata": {},
   "source": [
    "###  2.3. Будет ли линейное пространство евклидовым, если за скалярное произведение принять:\n",
    "##### а) произведение длин векторов;"
   ]
  },
  {
   "attachments": {
    "image.png": {
     "image/png": "[encoded data removed]"
    }
   },
   "cell_type": "markdown",
   "metadata": {},
   "source": [
    "Решение: Пространство всех свободных векторов с определенным скалярным произведением ![image.png](attachment:image.png) является евклидовым пространством.\n",
    "\n",
    "В нашей задаче отсутвует угол между векторами, что означает, что в данном случае пространство НЕ будет евклидовым"
   ]
  },
  {
   "cell_type": "markdown",
   "metadata": {},
   "source": [
    "##### б) утроенное обычное скалярное произведение векторов?"
   ]
  },
  {
   "cell_type": "markdown",
   "metadata": {},
   "source": [
    "Решение:\n",
    "\n",
    "На множестве всех векторов на плоскости введем следующую операцию: \n",
    "\n",
    "если векторы x и y этой плоскости имеют в некотором базисе координаты (x1, x2) и (y1, y2) соответственно, то их скалярное произведение равно:\n",
    "\n",
    "$(x \\cdot y) = 3\\cdot x_{1}\\cdot y_{1} + 3\\cdot x_{2}\\cdot y_{2}$.\n",
    "\n",
    "\n",
    "Посмотрим выполняются ли для данного утверждения следующие четыре аксиомы:\n",
    "\n",
    "\n",
    "1) $(x,y)=(y,x);$\n",
    "\n",
    "\n",
    "2) $(\\lambda x, y)=\\lambda(x, y);$\n",
    "\n",
    "\n",
    "3) $(x1+x2,y)=(x1,y)+(x2,y);$\n",
    "\n",
    "\n",
    "4) $(x, x)\\geq0$, причем $(x,x)=0\\Leftrightarrow x=0.$\n",
    "\n",
    "Проверка:\n",
    "\n",
    "1) $3\\cdot x_{1}\\cdot y_{1} + 3\\cdot x_{2}\\cdot y_{2} = 3\\cdot y_{1}\\cdot x_{1} + 3\\cdot y_{2}\\cdot x_{2}$ (по переместительным законам умножения), т.е. $(x,y)=(y,x)$\n",
    "\n",
    "2) $3\\cdot(\\lambda\\cdot x_{1})\\cdot y_{1} + 3\\cdot(\\lambda\\cdot x_{2})\\cdot y_{2} = \\lambda\\cdot(3\\cdot x_{1}\\cdot y_{1} + 3\\cdot x_{2}\\cdot y_{2})$ (по переместительным законам умножения), т.е. $(\\lambda x, y) = \\lambda(x, y)$\n",
    "\n",
    "3) $3\\cdot (x1_{1}+x2_{1})\\cdot y_{1} + 3\\cdot(x1_{2}+x2_{2})\\cdot y_{2} = (3\\cdot x1_{1}\\cdot y_{1} + 3\\cdot x1_{2}\\cdot y_{2}) + (3\\cdot x2_{1}\\cdot y_{1} + 3\\cdot x2_{2}\\cdot y_{2})$ (из свойств умножения b сложения векторов), т.е. $(x_{1}+x_{2},y)=(x_{1},y)+(x_{2},y)$\n",
    "\n",
    "4) $(x,x) = 3\\cdot x_{1}\\cdot x_{1} + 3\\cdot x_{2}\\cdot x_{2} = 3\\cdot x_{1}^{2} + 3\\cdot x_{2}^{2}$, $(x, x)\\geq0$, причем $(x,x)=0\\Leftrightarrow x=0$, т.е. выполняется 4я аксиома\n",
    "\n",
    "Следовательно, линейное пространство будет евклидовым, если за скалярное произведение принять утроенное обычное скалярное произведение векторов."
   ]
  },
  {
   "cell_type": "markdown",
   "metadata": {},
   "source": [
    "### 2.4. Какие из нижеперечисленных векторов образуют ортонормированный базис в линейном пространстве $\\mathbb{R}^{3}$:"
   ]
  },
  {
   "cell_type": "markdown",
   "metadata": {},
   "source": [
    "####  а) $(1,0,0),(0,0,1)$"
   ]
  },
  {
   "cell_type": "markdown",
   "metadata": {},
   "source": [
    "Решение: Вектора НЕ образуют базис в 3хмерном пространстве (должно быть 3 вектора)."
   ]
  },
  {
   "cell_type": "markdown",
   "metadata": {},
   "source": [
    "#### б) $(1/\\sqrt{2},-1/\\sqrt{2},0),(1/\\sqrt{2},1/\\sqrt{2},0), (0,0,1)$"
   ]
  },
  {
   "cell_type": "markdown",
   "metadata": {},
   "source": [
    "Решение: В конечномерном евклидовом пространстве базис $\\{e_{1},e_{2},...,e_{n}\\}$ называется ортонормированным, если\n",
    "\n",
    "$(e_{i}, e_{j})=0$ $\\forall$ $i\\neq j$ и $(e_{i},e_{i})=1$ $\\forall$ $i\\in[1, n].$"
   ]
  },
  {
   "cell_type": "code",
   "execution_count": 42,
   "metadata": {},
   "outputs": [],
   "source": [
    "import numpy as np\n",
    "a = np.array([1/2**(1/2), -1/2**(1/2), 0])\n",
    "b = np.array([1/2**(1/2), 1/2**(1/2), 0])\n",
    "c = np.array([0, 0, 1])"
   ]
  },
  {
   "cell_type": "code",
   "execution_count": 43,
   "metadata": {},
   "outputs": [
    {
     "name": "stdout",
     "output_type": "stream",
     "text": [
      "Скалярное произведение векторов a и b: 0.0\n",
      "Скалярное произведение векторов a и c: 0.0\n",
      "Скалярное произведение векторов b и с: 0.0\n"
     ]
    }
   ],
   "source": [
    "# найдем попарные скалярные произведения (они должны быть равны 0)\n",
    "print(f\"Скалярное произведение векторов a и b: {a @ b}\")\n",
    "print(f\"Скалярное произведение векторов a и c: {a @ c}\")\n",
    "print(f\"Скалярное произведение векторов b и с: {b @ c}\")"
   ]
  },
  {
   "cell_type": "code",
   "execution_count": 45,
   "metadata": {},
   "outputs": [
    {
     "name": "stdout",
     "output_type": "stream",
     "text": [
      "Скалярное произведение векторов a и b: 0.9999999999999998\n",
      "Скалярное произведение векторов a и c: 0.9999999999999998\n",
      "Скалярное произведение векторов b и с: 1\n"
     ]
    }
   ],
   "source": [
    "# найдем скалярные произведения вектров на самих себя(они должны быть равны 1)\n",
    "print(f\"Скалярное произведение векторов a и b: {a @ a}\")\n",
    "print(f\"Скалярное произведение векторов a и c: {b @ b}\")\n",
    "print(f\"Скалярное произведение векторов b и с: {c @ c}\")"
   ]
  },
  {
   "cell_type": "markdown",
   "metadata": {},
   "source": [
    "Вектора удовлетворяют условию ортонормированности. Т.Е. вектора $(1/\\sqrt{2},-1/\\sqrt{2},0),(1/\\sqrt{2},1/\\sqrt{2},0), (0,0,1)$ образуют ортонормированный базис."
   ]
  },
  {
   "cell_type": "markdown",
   "metadata": {},
   "source": [
    "####  в) $(1/2, -1/2, 0), (0, 1/2, 1/2), (0,0,1)$\n",
    "\n",
    "Решение: В конечномерном евклидовом пространстве базис $\\{e_{1},e_{2},...,e_{n}\\}$ называется ортонормированным, если\n",
    "\n",
    "$(e_{i}, e_{j})=0$ $\\forall$ $i\\neq j$ и $(e_{i},e_{i})=1$ $\\forall$ $i\\in[1, n].$"
   ]
  },
  {
   "cell_type": "code",
   "execution_count": 46,
   "metadata": {},
   "outputs": [],
   "source": [
    "import numpy as np\n",
    "a = np.array([1/2, -1/2, 0])\n",
    "b = np.array([0, 1/2, 1/2])\n",
    "c = np.array([0, 0, 1])"
   ]
  },
  {
   "cell_type": "code",
   "execution_count": 47,
   "metadata": {},
   "outputs": [
    {
     "name": "stdout",
     "output_type": "stream",
     "text": [
      "Скалярное произведение векторов a и b: -0.25\n",
      "Скалярное произведение векторов a и c: 0.0\n",
      "Скалярное произведение векторов b и с: 0.5\n"
     ]
    }
   ],
   "source": [
    "# найдем попарные скалярные произведения (они должны быть равны 0)\n",
    "print(f\"Скалярное произведение векторов a и b: {a @ b}\")\n",
    "print(f\"Скалярное произведение векторов a и c: {a @ c}\")\n",
    "print(f\"Скалярное произведение векторов b и с: {b @ c}\")"
   ]
  },
  {
   "cell_type": "markdown",
   "metadata": {},
   "source": [
    "Вектора Не удовлетворяют условию ортонормированности, т.е. вектора $(1/2, -1/2, 0), (0, 1/2, 1/2), (0,0,1)$ НЕ образуют ортонормированный базис."
   ]
  },
  {
   "cell_type": "markdown",
   "metadata": {},
   "source": [
    "#### г) $(1,0,0),(0,1,0),(0,0,1)$\n",
    "\n",
    "Решение: В конечномерном евклидовом пространстве базис $\\{e_{1},e_{2},...,e_{n}\\}$ называется ортонормированным, если\n",
    "\n",
    "$(e_{i}, e_{j})=0$ $\\forall$ $i\\neq j$ и $(e_{i},e_{i})=1$ $\\forall$ $i\\in[1, n].$"
   ]
  },
  {
   "cell_type": "code",
   "execution_count": 48,
   "metadata": {},
   "outputs": [],
   "source": [
    "import numpy as np\n",
    "a = np.array([1, 0, 0])\n",
    "b = np.array([0, 1, 0])\n",
    "c = np.array([0, 0, 1])"
   ]
  },
  {
   "cell_type": "code",
   "execution_count": 49,
   "metadata": {},
   "outputs": [
    {
     "name": "stdout",
     "output_type": "stream",
     "text": [
      "Скалярное произведение векторов a и b: 0\n",
      "Скалярное произведение векторов a и c: 0\n",
      "Скалярное произведение векторов b и с: 0\n"
     ]
    }
   ],
   "source": [
    "# найдем попарные скалярные произведения (они должны быть равны 0)\n",
    "print(f\"Скалярное произведение векторов a и b: {a @ b}\")\n",
    "print(f\"Скалярное произведение векторов a и c: {a @ c}\")\n",
    "print(f\"Скалярное произведение векторов b и с: {b @ c}\")"
   ]
  },
  {
   "cell_type": "code",
   "execution_count": 50,
   "metadata": {},
   "outputs": [
    {
     "name": "stdout",
     "output_type": "stream",
     "text": [
      "Скалярное произведение векторов a и b: 1\n",
      "Скалярное произведение векторов a и c: 1\n",
      "Скалярное произведение векторов b и с: 1\n"
     ]
    }
   ],
   "source": [
    "# найдем скалярные произведения вектров на самих себя(они должны быть равны 1)\n",
    "print(f\"Скалярное произведение векторов a и b: {a @ a}\")\n",
    "print(f\"Скалярное произведение векторов a и c: {b @ b}\")\n",
    "print(f\"Скалярное произведение векторов b и с: {c @ c}\")"
   ]
  },
  {
   "cell_type": "markdown",
   "metadata": {},
   "source": [
    "Вектора удовлетворяют условию ортонормированности. Т.Е. вектора $(1,0,0),(0,1,0),(0,0,1)$ образуют ортонормированный базис."
   ]
  },
  {
   "cell_type": "code",
   "execution_count": null,
   "metadata": {},
   "outputs": [],
   "source": []
  }
 ],
 "metadata": {
  "kernelspec": {
   "display_name": "Python 3",
   "language": "python",
   "name": "python3"
  },
  "language_info": {
   "codemirror_mode": {
    "name": "ipython",
    "version": 3
   },
   "file_extension": ".py",
   "mimetype": "text/x-python",
   "name": "python",
   "nbconvert_exporter": "python",
   "pygments_lexer": "ipython3",
   "version": "3.8.5"
  }
 },
 "nbformat": 4,
 "nbformat_minor": 4
}
